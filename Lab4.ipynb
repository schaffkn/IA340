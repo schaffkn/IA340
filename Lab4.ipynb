{
 "cells": [
  {
   "cell_type": "code",
   "execution_count": 1,
   "metadata": {
    "collapsed": false,
    "deletable": true,
    "editable": true,
    "scrolled": true
   },
   "outputs": [
    {
     "name": "stdout",
     "output_type": "stream",
     "text": [
      "Requirement already satisfied: psycopg2 in c:\\programdata\\anaconda3\\lib\\site-packages (2.8.3)\n"
     ]
    }
   ],
   "source": [
    "!pip install psycopg2"
   ]
  },
  {
   "cell_type": "code",
   "execution_count": 2,
   "metadata": {
    "collapsed": true,
    "deletable": true,
    "editable": true
   },
   "outputs": [],
   "source": [
    "import pandas\n",
    "import configparser\n",
    "import psycopg2"
   ]
  },
  {
   "cell_type": "code",
   "execution_count": 3,
   "metadata": {
    "collapsed": true,
    "deletable": true,
    "editable": true
   },
   "outputs": [],
   "source": [
    "config = configparser.ConfigParser()\n",
    "config.read('config.ini')\n",
    "\n",
    "host = config['myaws']['host']\n",
    "user = config['myaws']['user']\n",
    "pwd = config['myaws']['pwd']\n",
    "database = config['myaws']['database']"
   ]
  },
  {
   "cell_type": "code",
   "execution_count": 4,
   "metadata": {
    "collapsed": true,
    "deletable": true,
    "editable": true
   },
   "outputs": [],
   "source": [
    "conn = psycopg2.connect(\n",
    "                        host = host,\n",
    "                        user = user,\n",
    "                        password = pwd,\n",
    "                        dbname = database\n",
    ")"
   ]
  },
  {
   "cell_type": "code",
   "execution_count": 5,
   "metadata": {
    "collapsed": true,
    "deletable": true,
    "editable": true
   },
   "outputs": [],
   "source": [
    "cur = conn.cursor()"
   ]
  },
  {
   "cell_type": "markdown",
   "metadata": {},
   "source": [
    "# Q1"
   ]
  },
  {
   "cell_type": "code",
   "execution_count": 6,
   "metadata": {
    "collapsed": true,
    "deletable": true,
    "editable": true
   },
   "outputs": [],
   "source": [
    "sql_statement = '''\n",
    "                select * from student_gp1\n",
    "                '''"
   ]
  },
  {
   "cell_type": "code",
   "execution_count": 7,
   "metadata": {
    "collapsed": false,
    "deletable": true,
    "editable": true
   },
   "outputs": [
    {
     "data": {
      "text/html": [
       "<div>\n",
       "<style scoped>\n",
       "    .dataframe tbody tr th:only-of-type {\n",
       "        vertical-align: middle;\n",
       "    }\n",
       "\n",
       "    .dataframe tbody tr th {\n",
       "        vertical-align: top;\n",
       "    }\n",
       "\n",
       "    .dataframe thead th {\n",
       "        text-align: right;\n",
       "    }\n",
       "</style>\n",
       "<table border=\"1\" class=\"dataframe\">\n",
       "  <thead>\n",
       "    <tr style=\"text-align: right;\">\n",
       "      <th></th>\n",
       "      <th>email</th>\n",
       "      <th>name</th>\n",
       "      <th>major</th>\n",
       "    </tr>\n",
       "  </thead>\n",
       "  <tbody>\n",
       "    <tr>\n",
       "      <th>0</th>\n",
       "      <td>johnsonks@dukes.jmu.edu                       ...</td>\n",
       "      <td>Kim Johnson                                   ...</td>\n",
       "      <td>IA                                            ...</td>\n",
       "    </tr>\n",
       "    <tr>\n",
       "      <th>1</th>\n",
       "      <td>jonesjm@dukes.jmu.edu                         ...</td>\n",
       "      <td>Jake Jones                                    ...</td>\n",
       "      <td>IA                                            ...</td>\n",
       "    </tr>\n",
       "    <tr>\n",
       "      <th>2</th>\n",
       "      <td>thomastc@dukes.jmu.edu                        ...</td>\n",
       "      <td>Tim Thomas                                    ...</td>\n",
       "      <td>IA                                            ...</td>\n",
       "    </tr>\n",
       "    <tr>\n",
       "      <th>3</th>\n",
       "      <td>harpersj@dukes.jmu.edu                        ...</td>\n",
       "      <td>Sarah Harper                                  ...</td>\n",
       "      <td>IA                                            ...</td>\n",
       "    </tr>\n",
       "    <tr>\n",
       "      <th>4</th>\n",
       "      <td>longcn@dukes.jmu.edu                          ...</td>\n",
       "      <td>Claire Long                                   ...</td>\n",
       "      <td>IA                                            ...</td>\n",
       "    </tr>\n",
       "  </tbody>\n",
       "</table>\n",
       "</div>"
      ],
      "text/plain": [
       "                                               email  \\\n",
       "0  johnsonks@dukes.jmu.edu                       ...   \n",
       "1  jonesjm@dukes.jmu.edu                         ...   \n",
       "2  thomastc@dukes.jmu.edu                        ...   \n",
       "3  harpersj@dukes.jmu.edu                        ...   \n",
       "4  longcn@dukes.jmu.edu                          ...   \n",
       "\n",
       "                                                name  \\\n",
       "0  Kim Johnson                                   ...   \n",
       "1  Jake Jones                                    ...   \n",
       "2  Tim Thomas                                    ...   \n",
       "3  Sarah Harper                                  ...   \n",
       "4  Claire Long                                   ...   \n",
       "\n",
       "                                               major  \n",
       "0  IA                                            ...  \n",
       "1  IA                                            ...  \n",
       "2  IA                                            ...  \n",
       "3  IA                                            ...  \n",
       "4  IA                                            ...  "
      ]
     },
     "execution_count": 7,
     "metadata": {},
     "output_type": "execute_result"
    }
   ],
   "source": [
    "df = pandas.read_sql_query(sql_statement, conn)\n",
    "df[:]"
   ]
  },
  {
   "cell_type": "markdown",
   "metadata": {},
   "source": [
    "# Q2"
   ]
  },
  {
   "cell_type": "code",
   "execution_count": 8,
   "metadata": {
    "collapsed": true,
    "deletable": true,
    "editable": true
   },
   "outputs": [],
   "source": [
    "sql_statement = '''\n",
    "                select * from enroll_gp1\n",
    "                '''"
   ]
  },
  {
   "cell_type": "code",
   "execution_count": 9,
   "metadata": {
    "collapsed": false,
    "deletable": true,
    "editable": true
   },
   "outputs": [
    {
     "data": {
      "text/html": [
       "<div>\n",
       "<style scoped>\n",
       "    .dataframe tbody tr th:only-of-type {\n",
       "        vertical-align: middle;\n",
       "    }\n",
       "\n",
       "    .dataframe tbody tr th {\n",
       "        vertical-align: top;\n",
       "    }\n",
       "\n",
       "    .dataframe thead th {\n",
       "        text-align: right;\n",
       "    }\n",
       "</style>\n",
       "<table border=\"1\" class=\"dataframe\">\n",
       "  <thead>\n",
       "    <tr style=\"text-align: right;\">\n",
       "      <th></th>\n",
       "      <th>semail</th>\n",
       "      <th>cname</th>\n",
       "    </tr>\n",
       "  </thead>\n",
       "  <tbody>\n",
       "    <tr>\n",
       "      <th>0</th>\n",
       "      <td>johnsonks@dukes.jmu.edu                       ...</td>\n",
       "      <td>IA 200                                        ...</td>\n",
       "    </tr>\n",
       "    <tr>\n",
       "      <th>1</th>\n",
       "      <td>harpersj@dukes.jmu.edu                        ...</td>\n",
       "      <td>IA 240                                        ...</td>\n",
       "    </tr>\n",
       "    <tr>\n",
       "      <th>2</th>\n",
       "      <td>jonesjm@dukes.jmu.edu                         ...</td>\n",
       "      <td>IA 210                                        ...</td>\n",
       "    </tr>\n",
       "    <tr>\n",
       "      <th>3</th>\n",
       "      <td>longcn@dukes.jmu.edu                          ...</td>\n",
       "      <td>IA 210                                        ...</td>\n",
       "    </tr>\n",
       "    <tr>\n",
       "      <th>4</th>\n",
       "      <td>thomastc@dukes.jmu.edu                        ...</td>\n",
       "      <td>IA 261                                        ...</td>\n",
       "    </tr>\n",
       "  </tbody>\n",
       "</table>\n",
       "</div>"
      ],
      "text/plain": [
       "                                              semail  \\\n",
       "0  johnsonks@dukes.jmu.edu                       ...   \n",
       "1  harpersj@dukes.jmu.edu                        ...   \n",
       "2  jonesjm@dukes.jmu.edu                         ...   \n",
       "3  longcn@dukes.jmu.edu                          ...   \n",
       "4  thomastc@dukes.jmu.edu                        ...   \n",
       "\n",
       "                                               cname  \n",
       "0  IA 200                                        ...  \n",
       "1  IA 240                                        ...  \n",
       "2  IA 210                                        ...  \n",
       "3  IA 210                                        ...  \n",
       "4  IA 261                                        ...  "
      ]
     },
     "execution_count": 9,
     "metadata": {},
     "output_type": "execute_result"
    }
   ],
   "source": [
    "df = pandas.read_sql_query(sql_statement, conn)\n",
    "df[:]"
   ]
  },
  {
   "cell_type": "markdown",
   "metadata": {},
   "source": [
    "# Q3"
   ]
  },
  {
   "cell_type": "code",
   "execution_count": 10,
   "metadata": {
    "collapsed": true,
    "deletable": true,
    "editable": true
   },
   "outputs": [],
   "source": [
    "sql_statement = '''\n",
    "                select\n",
    "                cname, count(semail)\n",
    "                from enroll_gp1\n",
    "                group by cname\n",
    "                order by count(semail) desc\n",
    "                limit 1\n",
    "                '''"
   ]
  },
  {
   "cell_type": "code",
   "execution_count": 11,
   "metadata": {
    "collapsed": false,
    "deletable": true,
    "editable": true
   },
   "outputs": [
    {
     "data": {
      "text/html": [
       "<div>\n",
       "<style scoped>\n",
       "    .dataframe tbody tr th:only-of-type {\n",
       "        vertical-align: middle;\n",
       "    }\n",
       "\n",
       "    .dataframe tbody tr th {\n",
       "        vertical-align: top;\n",
       "    }\n",
       "\n",
       "    .dataframe thead th {\n",
       "        text-align: right;\n",
       "    }\n",
       "</style>\n",
       "<table border=\"1\" class=\"dataframe\">\n",
       "  <thead>\n",
       "    <tr style=\"text-align: right;\">\n",
       "      <th></th>\n",
       "      <th>cname</th>\n",
       "      <th>count</th>\n",
       "    </tr>\n",
       "  </thead>\n",
       "  <tbody>\n",
       "    <tr>\n",
       "      <th>0</th>\n",
       "      <td>IA 210                                        ...</td>\n",
       "      <td>2</td>\n",
       "    </tr>\n",
       "  </tbody>\n",
       "</table>\n",
       "</div>"
      ],
      "text/plain": [
       "                                               cname  count\n",
       "0  IA 210                                        ...      2"
      ]
     },
     "execution_count": 11,
     "metadata": {},
     "output_type": "execute_result"
    }
   ],
   "source": [
    "df = pandas.read_sql_query(sql_statement, conn)\n",
    "df[:]"
   ]
  },
  {
   "cell_type": "markdown",
   "metadata": {},
   "source": [
    "# Q4"
   ]
  },
  {
   "cell_type": "code",
   "execution_count": 12,
   "metadata": {
    "collapsed": true,
    "deletable": true,
    "editable": true
   },
   "outputs": [],
   "source": [
    "sql_statement = '''\n",
    "                select\n",
    "                teacher_gp1.name as tname,\n",
    "                course_gp1.name as cname\n",
    "                from teacher_gp1\n",
    "                inner join course_gp1 on teacher_gp1.email = course_gp1.temail\n",
    "                '''"
   ]
  },
  {
   "cell_type": "code",
   "execution_count": 13,
   "metadata": {
    "collapsed": false,
    "deletable": true,
    "editable": true
   },
   "outputs": [
    {
     "data": {
      "text/html": [
       "<div>\n",
       "<style scoped>\n",
       "    .dataframe tbody tr th:only-of-type {\n",
       "        vertical-align: middle;\n",
       "    }\n",
       "\n",
       "    .dataframe tbody tr th {\n",
       "        vertical-align: top;\n",
       "    }\n",
       "\n",
       "    .dataframe thead th {\n",
       "        text-align: right;\n",
       "    }\n",
       "</style>\n",
       "<table border=\"1\" class=\"dataframe\">\n",
       "  <thead>\n",
       "    <tr style=\"text-align: right;\">\n",
       "      <th></th>\n",
       "      <th>tname</th>\n",
       "      <th>cname</th>\n",
       "    </tr>\n",
       "  </thead>\n",
       "  <tbody>\n",
       "    <tr>\n",
       "      <th>0</th>\n",
       "      <td>Stephen Marrin                                ...</td>\n",
       "      <td>IA 200                                        ...</td>\n",
       "    </tr>\n",
       "    <tr>\n",
       "      <th>1</th>\n",
       "      <td>Kathleen Moore                                ...</td>\n",
       "      <td>IA 240                                        ...</td>\n",
       "    </tr>\n",
       "    <tr>\n",
       "      <th>2</th>\n",
       "      <td>Timothy Walton                                ...</td>\n",
       "      <td>IA 261                                        ...</td>\n",
       "    </tr>\n",
       "    <tr>\n",
       "      <th>3</th>\n",
       "      <td>Qingjiu Tao                                   ...</td>\n",
       "      <td>IA 210                                        ...</td>\n",
       "    </tr>\n",
       "    <tr>\n",
       "      <th>4</th>\n",
       "      <td>Frank Harper                                  ...</td>\n",
       "      <td>IA245                                         ...</td>\n",
       "    </tr>\n",
       "    <tr>\n",
       "      <th>5</th>\n",
       "      <td>Frank Harper                                  ...</td>\n",
       "      <td>IA 241                                        ...</td>\n",
       "    </tr>\n",
       "  </tbody>\n",
       "</table>\n",
       "</div>"
      ],
      "text/plain": [
       "                                               tname  \\\n",
       "0  Stephen Marrin                                ...   \n",
       "1  Kathleen Moore                                ...   \n",
       "2  Timothy Walton                                ...   \n",
       "3  Qingjiu Tao                                   ...   \n",
       "4  Frank Harper                                  ...   \n",
       "5  Frank Harper                                  ...   \n",
       "\n",
       "                                               cname  \n",
       "0  IA 200                                        ...  \n",
       "1  IA 240                                        ...  \n",
       "2  IA 261                                        ...  \n",
       "3  IA 210                                        ...  \n",
       "4  IA245                                         ...  \n",
       "5  IA 241                                        ...  "
      ]
     },
     "execution_count": 13,
     "metadata": {},
     "output_type": "execute_result"
    }
   ],
   "source": [
    "df = pandas.read_sql_query(sql_statement, conn)\n",
    "df[:]"
   ]
  },
  {
   "cell_type": "markdown",
   "metadata": {},
   "source": [
    "# Q5"
   ]
  },
  {
   "cell_type": "code",
   "execution_count": 14,
   "metadata": {
    "collapsed": true,
    "deletable": true,
    "editable": true
   },
   "outputs": [],
   "source": [
    "sql_statement = '''\n",
    "                select\n",
    "                teacher_gp1.name as tname,\n",
    "                count(course_gp1.name) as course_num\n",
    "                from teacher_gp1\n",
    "                inner join course_gp1 on teacher_gp1.email = course_gp1.temail\n",
    "                group by teacher_gp1.name\n",
    "                order by course_num desc\n",
    "                limit 1\n",
    "                '''"
   ]
  },
  {
   "cell_type": "code",
   "execution_count": 15,
   "metadata": {
    "collapsed": false,
    "deletable": true,
    "editable": true
   },
   "outputs": [
    {
     "data": {
      "text/html": [
       "<div>\n",
       "<style scoped>\n",
       "    .dataframe tbody tr th:only-of-type {\n",
       "        vertical-align: middle;\n",
       "    }\n",
       "\n",
       "    .dataframe tbody tr th {\n",
       "        vertical-align: top;\n",
       "    }\n",
       "\n",
       "    .dataframe thead th {\n",
       "        text-align: right;\n",
       "    }\n",
       "</style>\n",
       "<table border=\"1\" class=\"dataframe\">\n",
       "  <thead>\n",
       "    <tr style=\"text-align: right;\">\n",
       "      <th></th>\n",
       "      <th>tname</th>\n",
       "      <th>course_num</th>\n",
       "    </tr>\n",
       "  </thead>\n",
       "  <tbody>\n",
       "    <tr>\n",
       "      <th>0</th>\n",
       "      <td>Frank Harper                                  ...</td>\n",
       "      <td>2</td>\n",
       "    </tr>\n",
       "  </tbody>\n",
       "</table>\n",
       "</div>"
      ],
      "text/plain": [
       "                                               tname  course_num\n",
       "0  Frank Harper                                  ...           2"
      ]
     },
     "execution_count": 15,
     "metadata": {},
     "output_type": "execute_result"
    }
   ],
   "source": [
    "df = pandas.read_sql_query(sql_statement, conn)\n",
    "df[:]"
   ]
  },
  {
   "cell_type": "markdown",
   "metadata": {},
   "source": [
    "# Q6"
   ]
  },
  {
   "cell_type": "code",
   "execution_count": 16,
   "metadata": {
    "collapsed": true,
    "deletable": true,
    "editable": true
   },
   "outputs": [],
   "source": [
    "sql_insert_statement = '''\n",
    "                        insert into teacher_gp1(email,name,office)\n",
    "                        values('{}','{}', '{}')\n",
    "                        '''.format('new_email1','new_name1', 'new_office1')"
   ]
  },
  {
   "cell_type": "code",
   "execution_count": 17,
   "metadata": {
    "collapsed": true,
    "deletable": true,
    "editable": true
   },
   "outputs": [],
   "source": [
    "cur.execute(sql_insert_statement)"
   ]
  },
  {
   "cell_type": "code",
   "execution_count": 18,
   "metadata": {
    "collapsed": false,
    "deletable": true,
    "editable": true
   },
   "outputs": [
    {
     "data": {
      "text/html": [
       "<div>\n",
       "<style scoped>\n",
       "    .dataframe tbody tr th:only-of-type {\n",
       "        vertical-align: middle;\n",
       "    }\n",
       "\n",
       "    .dataframe tbody tr th {\n",
       "        vertical-align: top;\n",
       "    }\n",
       "\n",
       "    .dataframe thead th {\n",
       "        text-align: right;\n",
       "    }\n",
       "</style>\n",
       "<table border=\"1\" class=\"dataframe\">\n",
       "  <thead>\n",
       "    <tr style=\"text-align: right;\">\n",
       "      <th></th>\n",
       "      <th>email</th>\n",
       "      <th>name</th>\n",
       "      <th>office</th>\n",
       "    </tr>\n",
       "  </thead>\n",
       "  <tbody>\n",
       "    <tr>\n",
       "      <th>0</th>\n",
       "      <td>marrinsp@jmu.edu                              ...</td>\n",
       "      <td>Stephen Marrin                                ...</td>\n",
       "      <td>isat210</td>\n",
       "    </tr>\n",
       "    <tr>\n",
       "      <th>1</th>\n",
       "      <td>moore8ka@jmu.edu                              ...</td>\n",
       "      <td>Kathleen Moore                                ...</td>\n",
       "      <td>isat115</td>\n",
       "    </tr>\n",
       "    <tr>\n",
       "      <th>2</th>\n",
       "      <td>waltontr@jmu.edu                              ...</td>\n",
       "      <td>Timothy Walton                                ...</td>\n",
       "      <td>isat310</td>\n",
       "    </tr>\n",
       "    <tr>\n",
       "      <th>3</th>\n",
       "      <td>taoqx@jmu.edu                                 ...</td>\n",
       "      <td>Qingjiu Tao                                   ...</td>\n",
       "      <td>isat312</td>\n",
       "    </tr>\n",
       "    <tr>\n",
       "      <th>4</th>\n",
       "      <td>frharper@dukes.jmu                            ...</td>\n",
       "      <td>Frank Harper                                  ...</td>\n",
       "      <td>isat234</td>\n",
       "    </tr>\n",
       "    <tr>\n",
       "      <th>5</th>\n",
       "      <td>smithjn@jmu.edu                               ...</td>\n",
       "      <td>John Smith                                    ...</td>\n",
       "      <td>isat222</td>\n",
       "    </tr>\n",
       "    <tr>\n",
       "      <th>6</th>\n",
       "      <td>new_email1                                    ...</td>\n",
       "      <td>new_name1                                     ...</td>\n",
       "      <td>new_office1</td>\n",
       "    </tr>\n",
       "  </tbody>\n",
       "</table>\n",
       "</div>"
      ],
      "text/plain": [
       "                                               email  \\\n",
       "0  marrinsp@jmu.edu                              ...   \n",
       "1  moore8ka@jmu.edu                              ...   \n",
       "2  waltontr@jmu.edu                              ...   \n",
       "3  taoqx@jmu.edu                                 ...   \n",
       "4  frharper@dukes.jmu                            ...   \n",
       "5  smithjn@jmu.edu                               ...   \n",
       "6  new_email1                                    ...   \n",
       "\n",
       "                                                name                office  \n",
       "0  Stephen Marrin                                ...  isat210               \n",
       "1  Kathleen Moore                                ...  isat115               \n",
       "2  Timothy Walton                                ...  isat310               \n",
       "3  Qingjiu Tao                                   ...  isat312               \n",
       "4  Frank Harper                                  ...  isat234               \n",
       "5  John Smith                                    ...  isat222               \n",
       "6  new_name1                                     ...  new_office1           "
      ]
     },
     "execution_count": 18,
     "metadata": {},
     "output_type": "execute_result"
    }
   ],
   "source": [
    "df = pandas.read_sql_query('''select * from teacher_gp1''', conn)\n",
    "df[:]"
   ]
  },
  {
   "cell_type": "code",
   "execution_count": 19,
   "metadata": {
    "collapsed": true,
    "deletable": true,
    "editable": true
   },
   "outputs": [],
   "source": [
    "sql_modify_statement = '''\n",
    "                        update course_gp1\n",
    "                        set temail = 'smithjn@jmu.edu'\n",
    "                        where temail = 'taoqx@jmu.edu'\n",
    "                        '''"
   ]
  },
  {
   "cell_type": "code",
   "execution_count": 20,
   "metadata": {
    "collapsed": true,
    "deletable": true,
    "editable": true
   },
   "outputs": [],
   "source": [
    "cur.execute(sql_modify_statement)"
   ]
  },
  {
   "cell_type": "code",
   "execution_count": 21,
   "metadata": {
    "collapsed": true,
    "deletable": true,
    "editable": true
   },
   "outputs": [],
   "source": [
    "sql_modify_statement = '''\n",
    "                        delete from teacher_gp1\n",
    "                        where email = 'taoqx@jmu.edu'\n",
    "                        '''"
   ]
  },
  {
   "cell_type": "code",
   "execution_count": 22,
   "metadata": {
    "collapsed": true,
    "deletable": true,
    "editable": true
   },
   "outputs": [],
   "source": [
    "cur.execute(sql_modify_statement)"
   ]
  },
  {
   "cell_type": "code",
   "execution_count": 23,
   "metadata": {
    "collapsed": false,
    "deletable": true,
    "editable": true
   },
   "outputs": [
    {
     "data": {
      "text/html": [
       "<div>\n",
       "<style scoped>\n",
       "    .dataframe tbody tr th:only-of-type {\n",
       "        vertical-align: middle;\n",
       "    }\n",
       "\n",
       "    .dataframe tbody tr th {\n",
       "        vertical-align: top;\n",
       "    }\n",
       "\n",
       "    .dataframe thead th {\n",
       "        text-align: right;\n",
       "    }\n",
       "</style>\n",
       "<table border=\"1\" class=\"dataframe\">\n",
       "  <thead>\n",
       "    <tr style=\"text-align: right;\">\n",
       "      <th></th>\n",
       "      <th>name</th>\n",
       "      <th>room</th>\n",
       "      <th>temail</th>\n",
       "    </tr>\n",
       "  </thead>\n",
       "  <tbody>\n",
       "    <tr>\n",
       "      <th>0</th>\n",
       "      <td>IA 200                                        ...</td>\n",
       "      <td>ENGEO 1210</td>\n",
       "      <td>marrinsp@jmu.edu                              ...</td>\n",
       "    </tr>\n",
       "    <tr>\n",
       "      <th>1</th>\n",
       "      <td>IA 240                                        ...</td>\n",
       "      <td>ENGEO 1208</td>\n",
       "      <td>moore8ka@jmu.edu                              ...</td>\n",
       "    </tr>\n",
       "    <tr>\n",
       "      <th>2</th>\n",
       "      <td>IA 261                                        ...</td>\n",
       "      <td>ENGEO 1208</td>\n",
       "      <td>waltontr@jmu.edu                              ...</td>\n",
       "    </tr>\n",
       "    <tr>\n",
       "      <th>3</th>\n",
       "      <td>IA245                                         ...</td>\n",
       "      <td>EnGeo 1204</td>\n",
       "      <td>frharper@dukes.jmu                            ...</td>\n",
       "    </tr>\n",
       "    <tr>\n",
       "      <th>4</th>\n",
       "      <td>IA 241                                        ...</td>\n",
       "      <td>CS 140</td>\n",
       "      <td>frharper@dukes.jmu                            ...</td>\n",
       "    </tr>\n",
       "    <tr>\n",
       "      <th>5</th>\n",
       "      <td>IA 210                                        ...</td>\n",
       "      <td>ENGEO 2010</td>\n",
       "      <td>smithjn@jmu.edu                               ...</td>\n",
       "    </tr>\n",
       "  </tbody>\n",
       "</table>\n",
       "</div>"
      ],
      "text/plain": [
       "                                                name                  room  \\\n",
       "0  IA 200                                        ...  ENGEO 1210             \n",
       "1  IA 240                                        ...  ENGEO 1208             \n",
       "2  IA 261                                        ...  ENGEO 1208             \n",
       "3  IA245                                         ...  EnGeo 1204             \n",
       "4  IA 241                                        ...  CS 140                 \n",
       "5  IA 210                                        ...  ENGEO 2010             \n",
       "\n",
       "                                              temail  \n",
       "0  marrinsp@jmu.edu                              ...  \n",
       "1  moore8ka@jmu.edu                              ...  \n",
       "2  waltontr@jmu.edu                              ...  \n",
       "3  frharper@dukes.jmu                            ...  \n",
       "4  frharper@dukes.jmu                            ...  \n",
       "5  smithjn@jmu.edu                               ...  "
      ]
     },
     "execution_count": 23,
     "metadata": {},
     "output_type": "execute_result"
    }
   ],
   "source": [
    "df = pandas.read_sql_query('''select * from course_gp1''', conn)\n",
    "df[:]"
   ]
  },
  {
   "cell_type": "code",
   "execution_count": null,
   "metadata": {
    "collapsed": true,
    "deletable": true,
    "editable": true
   },
   "outputs": [],
   "source": []
  }
 ],
 "metadata": {
  "kernelspec": {
   "display_name": "Python 3",
   "language": "python",
   "name": "python3"
  },
  "language_info": {
   "codemirror_mode": {
    "name": "ipython",
    "version": 3
   },
   "file_extension": ".py",
   "mimetype": "text/x-python",
   "name": "python",
   "nbconvert_exporter": "python",
   "pygments_lexer": "ipython3",
   "version": "3.5.2"
  }
 },
 "nbformat": 4,
 "nbformat_minor": 2
}
